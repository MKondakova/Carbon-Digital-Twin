{
 "cells": [
  {
   "cell_type": "code",
   "execution_count": 4,
   "metadata": {},
   "outputs": [],
   "source": [
    "from catboost import CatBoostRegressor\n",
    "from sklearn.model_selection import train_test_split\n",
    "import pandas as pd\n",
    "import h2o\n",
    "from sklearn.metrics import mean_squared_error\n",
    "from h2o.estimators import H2OGradientBoostingEstimator"
   ]
  },
  {
   "cell_type": "code",
   "execution_count": 19,
   "metadata": {},
   "outputs": [
    {
     "data": {
      "application/vnd.jupyter.widget-view+json": {
       "model_id": "73b2ae8a7e5a493c905ef29f56f557e3",
       "version_major": 2,
       "version_minor": 0
      },
      "text/plain": [
       "MetricVisualizer(layout=Layout(align_self='stretch', height='500px'))"
      ]
     },
     "metadata": {},
     "output_type": "display_data"
    },
    {
     "name": "stdout",
     "output_type": "stream",
     "text": [
      "Mean Squared Error: 1.4611696376563687e-06\n"
     ]
    }
   ],
   "source": [
    "data = pd.read_csv('DS.csv')\n",
    "X = data.drop('central', axis=1)\n",
    "y = data['central']\n",
    "X_train, X_test, y_train, y_test = train_test_split(X, y, test_size=0.2, random_state=42)\n",
    "model = CatBoostRegressor(iterations=10000, learning_rate=0.01, depth=10, loss_function='RMSE')\n",
    "model.fit(X_train, y_train, verbose=False, plot =True)\n",
    "predictions = model.predict(X_test)\n",
    "\n",
    "mse = mean_squared_error(y_test, predictions)\n",
    "print(f'Mean Squared Error: {mse}')"
   ]
  },
  {
   "cell_type": "code",
   "execution_count": 5,
   "metadata": {},
   "outputs": [
    {
     "name": "stdout",
     "output_type": "stream",
     "text": [
      "Mean Squared Error: 2.7201277396213935e-06\n"
     ]
    }
   ],
   "source": [
    "from sklearn.ensemble import GradientBoostingRegressor\n",
    "from sklearn.metrics import mean_squared_error\n",
    "\n",
    "# Инициализация и обучение модели градиентного бустинга\n",
    "data = pd.read_csv('DS.csv')\n",
    "X = data.drop('central', axis=1)\n",
    "y = data['central']\n",
    "X_train, X_test, y_train, y_test = train_test_split(X, y, test_size=0.2, random_state=42)\n",
    "gb_model = GradientBoostingRegressor()\n",
    "gb_model.fit(X_train, y_train)\n",
    "\n",
    "# Предсказание на тестовом наборе\n",
    "y_pred = gb_model.predict(X_test)\n",
    "\n",
    "# Оценка качества модели\n",
    "mse = mean_squared_error(y_test, y_pred)\n",
    "print(\"Mean Squared Error:\", mse)\n"
   ]
  },
  {
   "cell_type": "code",
   "execution_count": 6,
   "metadata": {},
   "outputs": [
    {
     "name": "stdout",
     "output_type": "stream",
     "text": [
      "Best parameters: {'learning_rate': 0.1, 'max_depth': 5, 'n_estimators': 100}\n",
      "Best score: 0.9917463216532179\n"
     ]
    }
   ],
   "source": [
    "from sklearn.model_selection import GridSearchCV\n",
    "\n",
    "# Определение набора параметров для настройки\n",
    "param_grid = {\n",
    "    'n_estimators': [50, 100, 200],\n",
    "    'learning_rate': [0.01, 0.1, 0.5],\n",
    "    'max_depth': [3, 5, 7]\n",
    "}\n",
    "\n",
    "# Инициализация модели\n",
    "gb_model = GradientBoostingRegressor()\n",
    "\n",
    "# Поиск оптимальных параметров с использованием перекрестной проверки\n",
    "grid_search = GridSearchCV(estimator=gb_model, param_grid=param_grid, cv=5)\n",
    "grid_search.fit(X_train, y_train)\n",
    "\n",
    "# Вывод результатов\n",
    "print(\"Best parameters:\", grid_search.best_params_)\n",
    "print(\"Best score:\", grid_search.best_score_)"
   ]
  },
  {
   "cell_type": "code",
   "execution_count": 7,
   "metadata": {},
   "outputs": [
    {
     "name": "stdout",
     "output_type": "stream",
     "text": [
      "Mean Squared Error: 2.7108823647777534e-06\n"
     ]
    }
   ],
   "source": [
    "model = GradientBoostingRegressor(n_estimators=100, learning_rate=0.1, max_depth=5)\n",
    "gb_model.fit(X_train, y_train)\n",
    "y_pred = gb_model.predict(X_test)\n",
    "\n",
    "# Оценка качества модели\n",
    "mse = mean_squared_error(y_test, y_pred)\n",
    "print(\"Mean Squared Error:\", mse)"
   ]
  },
  {
   "cell_type": "code",
   "execution_count": 1,
   "metadata": {},
   "outputs": [
    {
     "name": "stdout",
     "output_type": "stream",
     "text": [
      "Defaulting to user installation because normal site-packages is not writeableNote: you may need to restart the kernel to use updated packages.\n"
     ]
    },
    {
     "name": "stderr",
     "output_type": "stream",
     "text": [
      "  WARNING: The script pyaml.exe is installed in 'C:\\Users\\190782\\AppData\\Roaming\\Python\\Python310\\Scripts' which is not on PATH.\n",
      "  Consider adding this directory to PATH or, if you prefer to suppress this warning, use --no-warn-script-location.\n"
     ]
    },
    {
     "name": "stdout",
     "output_type": "stream",
     "text": [
      "\n",
      "Collecting scikit-optimize\n",
      "  Downloading scikit_optimize-0.10.1-py2.py3-none-any.whl (107 kB)\n",
      "     -------------------------------------- 107.7/107.7 kB 1.6 MB/s eta 0:00:00\n",
      "Requirement already satisfied: joblib>=0.11 in c:\\users\\190782\\appdata\\roaming\\python\\python310\\site-packages (from scikit-optimize) (1.3.2)\n",
      "Requirement already satisfied: scikit-learn>=1.0.0 in c:\\users\\190782\\appdata\\roaming\\python\\python310\\site-packages (from scikit-optimize) (1.4.1.post1)\n",
      "Collecting pyaml>=16.9\n",
      "  Downloading pyaml-23.12.0-py3-none-any.whl (23 kB)\n",
      "Requirement already satisfied: numpy>=1.20.3 in c:\\programdata\\anaconda3\\lib\\site-packages (from scikit-optimize) (1.23.5)\n",
      "Requirement already satisfied: packaging>=21.3 in c:\\programdata\\anaconda3\\lib\\site-packages (from scikit-optimize) (22.0)\n",
      "Requirement already satisfied: scipy>=1.1.0 in c:\\programdata\\anaconda3\\lib\\site-packages (from scikit-optimize) (1.10.0)\n",
      "Requirement already satisfied: PyYAML in c:\\programdata\\anaconda3\\lib\\site-packages (from pyaml>=16.9->scikit-optimize) (6.0)\n",
      "Requirement already satisfied: threadpoolctl>=2.0.0 in c:\\programdata\\anaconda3\\lib\\site-packages (from scikit-learn>=1.0.0->scikit-optimize) (2.2.0)\n",
      "Installing collected packages: pyaml, scikit-optimize\n",
      "Successfully installed pyaml-23.12.0 scikit-optimize-0.10.1\n"
     ]
    }
   ],
   "source": [
    "pip install scikit-optimize\n"
   ]
  },
  {
   "cell_type": "code",
   "execution_count": 10,
   "metadata": {},
   "outputs": [
    {
     "name": "stdout",
     "output_type": "stream",
     "text": [
      "Best parameters: OrderedDict([('learning_rate', 0.5), ('max_depth', 3), ('n_estimators', 155)])\n",
      "Best score: 0.992070408021154\n"
     ]
    }
   ],
   "source": [
    "from skopt import BayesSearchCV\n",
    "from sklearn.ensemble import GradientBoostingRegressor\n",
    "\n",
    "# Определение пространства поиска гиперпараметров\n",
    "param_space = {\n",
    "    'n_estimators': (50, 200),\n",
    "    'learning_rate': (0.01, 0.5),\n",
    "    'max_depth': (3, 7)\n",
    "}\n",
    "\n",
    "# Инициализация модели\n",
    "gb_model = GradientBoostingRegressor()\n",
    "\n",
    "# Оптимизация гиперпараметров с использованием оптимизации байесовской оптимизации\n",
    "opt = BayesSearchCV(gb_model, param_space, n_iter=30, cv=5)\n",
    "opt.fit(X_train, y_train)\n",
    "\n",
    "# Вывод результатов\n",
    "print(\"Best parameters:\", opt.best_params_)\n",
    "print(\"Best score:\", opt.best_score_)\n"
   ]
  }
 ],
 "metadata": {
  "kernelspec": {
   "display_name": "base",
   "language": "python",
   "name": "python3"
  },
  "language_info": {
   "codemirror_mode": {
    "name": "ipython",
    "version": 3
   },
   "file_extension": ".py",
   "mimetype": "text/x-python",
   "name": "python",
   "nbconvert_exporter": "python",
   "pygments_lexer": "ipython3",
   "version": "3.10.9"
  },
  "orig_nbformat": 4
 },
 "nbformat": 4,
 "nbformat_minor": 2
}

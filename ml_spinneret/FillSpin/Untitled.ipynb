{
 "cells": [
  {
   "cell_type": "code",
   "execution_count": 3,
   "id": "0b104979-42a2-4911-8216-791efb83c63c",
   "metadata": {},
   "outputs": [],
   "source": [
    "import requests\n",
    "from config import APIKEY"
   ]
  },
  {
   "cell_type": "code",
   "execution_count": 7,
   "id": "08ac5b6b-232f-459b-9be1-3044093604a8",
   "metadata": {},
   "outputs": [
    {
     "data": {
      "text/plain": [
       "True"
      ]
     },
     "execution_count": 7,
     "metadata": {},
     "output_type": "execute_result"
    }
   ],
   "source": [
    "req = requests.get(f'https://api.telegram.org/bot{APIKEY}/sendMessage?chat_id=463762417&text=zip отправить не удалось, поэтому посмотришь в ПИШе')\n",
    "req.ok"
   ]
  }
 ],
 "metadata": {
  "kernelspec": {
   "display_name": "Python 3 (ipykernel)",
   "language": "python",
   "name": "python3"
  },
  "language_info": {
   "codemirror_mode": {
    "name": "ipython",
    "version": 3
   },
   "file_extension": ".py",
   "mimetype": "text/x-python",
   "name": "python",
   "nbconvert_exporter": "python",
   "pygments_lexer": "ipython3",
   "version": "3.10.9"
  }
 },
 "nbformat": 4,
 "nbformat_minor": 5
}
